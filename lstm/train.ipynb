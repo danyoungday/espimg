{
 "cells": [
  {
   "cell_type": "code",
   "execution_count": 1,
   "metadata": {},
   "outputs": [],
   "source": [
    "import json\n",
    "\n",
    "import gymnasium\n",
    "import numpy as np\n",
    "import torch\n",
    "\n",
    "\n",
    "from lstm.lstmmodel import LSTM, LSTMDS, train_lstm\n",
    "from vae.vaemodel import VAE\n",
    "from vae.collect_data import collect_human_data, save_rollouts, load_rollouts"
   ]
  },
  {
   "cell_type": "code",
   "execution_count": 2,
   "metadata": {},
   "outputs": [
    {
     "name": "stdout",
     "output_type": "stream",
     "text": [
      "(1000, 96, 96, 3) (1000, 3) (1000, 1) (1000, 96, 96, 3)\n",
      "(380, 96, 96, 3) (380, 3) (380, 1) (380, 96, 96, 3)\n"
     ]
    }
   ],
   "source": [
    "env = gymnasium.make(\"CarRacing-v2\", render_mode=\"rgb_array\", continuous=False)\n",
    "rollouts = collect_human_data(env, keys_to_action={\"w\": 3, \"a\": 2, \"d\": 1, \"s\": 4}, continuous=True)"
   ]
  },
  {
   "cell_type": "code",
   "execution_count": 3,
   "metadata": {},
   "outputs": [
    {
     "name": "stdout",
     "output_type": "stream",
     "text": [
      "3\n",
      "(1000, 96, 96, 3)\n",
      "Unpadding obses\n",
      "Unpadding actions\n",
      "Unpadding rewards\n",
      "Unpadding next_obses\n",
      "(1000, 96, 96, 3) (0, 3) (1000, 1) (1000, 96, 96, 3)\n",
      "Unpadding obses\n",
      "Unpadding actions\n",
      "Unpadding rewards\n",
      "Unpadding next_obses\n",
      "(380, 96, 96, 3) (15, 3) (380, 1) (380, 96, 96, 3)\n",
      "Unpadding obses\n",
      "Unpadding actions\n",
      "Unpadding rewards\n",
      "Unpadding next_obses\n",
      "(68, 96, 96, 3) (9, 3) (68, 1) (68, 96, 96, 3)\n",
      "3\n",
      "100\n"
     ]
    },
    {
     "ename": "IndexError",
     "evalue": "index 994 is out of bounds for axis 0 with size 380",
     "output_type": "error",
     "traceback": [
      "\u001b[0;31m---------------------------------------------------------------------------\u001b[0m",
      "\u001b[0;31mIndexError\u001b[0m                                Traceback (most recent call last)",
      "Cell \u001b[0;32mIn[3], line 9\u001b[0m\n\u001b[1;32m      7\u001b[0m \u001b[38;5;28mprint\u001b[39m(\u001b[38;5;28mlen\u001b[39m(rollouts))\n\u001b[1;32m      8\u001b[0m \u001b[38;5;28;01mfor\u001b[39;00m rollout \u001b[38;5;129;01min\u001b[39;00m rollouts:\n\u001b[0;32m----> 9\u001b[0m     \u001b[38;5;28mprint\u001b[39m(\u001b[43mrollout\u001b[49m\u001b[38;5;241;43m.\u001b[39;49m\u001b[43mobses\u001b[49m\u001b[43m[\u001b[49m\u001b[38;5;241;43m994\u001b[39;49m\u001b[43m,\u001b[49m\u001b[43m \u001b[49m\u001b[38;5;241;43m0\u001b[39;49m\u001b[43m,\u001b[49m\u001b[43m \u001b[49m\u001b[38;5;241;43m0\u001b[39;49m\u001b[43m,\u001b[49m\u001b[43m \u001b[49m\u001b[38;5;241;43m0\u001b[39;49m\u001b[43m]\u001b[49m)\n",
      "\u001b[0;31mIndexError\u001b[0m: index 994 is out of bounds for axis 0 with size 380"
     ]
    },
    {
     "ename": "",
     "evalue": "",
     "output_type": "error",
     "traceback": [
      "\u001b[1;31mThe Kernel crashed while executing code in the current cell or a previous cell. \n",
      "\u001b[1;31mPlease review the code in the cell(s) to identify a possible cause of the failure. \n",
      "\u001b[1;31mClick <a href='https://aka.ms/vscodeJupyterKernelCrash'>here</a> for more info. \n",
      "\u001b[1;31mView Jupyter <a href='command:jupyter.viewOutput'>log</a> for further details."
     ]
    }
   ],
   "source": [
    "print(len(rollouts))\n",
    "print(rollouts[0].obses.shape)\n",
    "\n",
    "save_rollouts(rollouts, \"lstm/human-data.npz\")\n",
    "\n",
    "rollouts = load_rollouts(\"lstm/human-data.npz\")"
   ]
  },
  {
   "cell_type": "code",
   "execution_count": null,
   "metadata": {},
   "outputs": [],
   "source": [
    "\n",
    "\n",
    "# Train VAE\n",
    "# vae_ds = VAEDS(data)\n",
    "with open(\"config.json\", \"r\") as f:\n",
    "    config = json.load(f)\n",
    "vae = VAE(config[\"img_size\"], config[\"latent_dim\"], config[\"encoder_blocks\"], config[\"decoder_blocks\"])\n",
    "# train_model(vae, vae_ds, 10, 64)\n",
    "# torch.save(vae.state_dict(), \"lstm/vae.pt\")\n",
    "vae.load_state_dict(torch.load(\"lstm/vae.pt\", weights_only=True))\n",
    "\n",
    "lstm_ds = LSTMDS(data, vae)\n",
    "lstm = LSTM(32, 1, 64)\n",
    "train_lstm(lstm, lstm_ds, 100, 64, log_dir=\"runs/exp3\", device=\"mps\")\n",
    "torch.save(lstm.state_dict(), \"lstm/lstm.pt\")"
   ]
  },
  {
   "cell_type": "code",
   "execution_count": null,
   "metadata": {},
   "outputs": [],
   "source": []
  }
 ],
 "metadata": {
  "kernelspec": {
   "display_name": "espvae",
   "language": "python",
   "name": "python3"
  },
  "language_info": {
   "codemirror_mode": {
    "name": "ipython",
    "version": 3
   },
   "file_extension": ".py",
   "mimetype": "text/x-python",
   "name": "python",
   "nbconvert_exporter": "python",
   "pygments_lexer": "ipython3",
   "version": "3.12.5"
  }
 },
 "nbformat": 4,
 "nbformat_minor": 2
}
